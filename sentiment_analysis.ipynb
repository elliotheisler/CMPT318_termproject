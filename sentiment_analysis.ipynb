{
 "cells": [
  {
   "cell_type": "code",
   "execution_count": null,
   "id": "e9c4bd53-c07a-4c07-a180-31d7030774e5",
   "metadata": {},
   "outputs": [],
   "source": [
    "from sklearnex import patch_sklearn; patch_sklearn()"
   ]
  },
  {
   "cell_type": "code",
   "execution_count": 1,
   "id": "4859cb73-a644-45b7-9d05-b11db6e26cdb",
   "metadata": {
    "tags": []
   },
   "outputs": [
    {
     "name": "stderr",
     "output_type": "stream",
     "text": [
      "/Users/elliotheisler/anaconda3/envs/cmpt/lib/python3.11/site-packages/tqdm/auto.py:21: TqdmWarning: IProgress not found. Please update jupyter and ipywidgets. See https://ipywidgets.readthedocs.io/en/stable/user_install.html\n",
      "  from .autonotebook import tqdm as notebook_tqdm\n"
     ]
    }
   ],
   "source": [
    "import pandas as pd\n",
    "from transformers import (AutoModelForSequenceClassification, pipeline)\n",
    "import transformers\n",
    "import datasets\n",
    "from tqdm import tqdm\n",
    "# from transformers import TFAutoModelForSequenceClassification\n",
    "from transformers import AutoTokenizer\n",
    "import numpy as np\n",
    "from scipy.special import softmax\n",
    "import csv\n",
    "import urllib.request\n",
    "import pandas as pd\n",
    "from tqdm import tqdm\n",
    "from typing import Callable\n",
    "from collections.abc import Iterable\n",
    "import time\n",
    "import seaborn as sns"
   ]
  },
  {
   "cell_type": "code",
   "execution_count": null,
   "id": "1647ed21-12b2-4cba-b227-0b89a5535fb3",
   "metadata": {
    "tags": []
   },
   "outputs": [
    {
     "name": "stderr",
     "output_type": "stream",
     "text": [
      "Downloading config.json: 100%|██████████| 565/565 [00:00<00:00, 227kB/s]\n",
      "Downloading vocab.json: 100%|██████████| 899k/899k [00:00<00:00, 3.62MB/s]\n",
      "Downloading merges.txt: 100%|██████████| 456k/456k [00:00<00:00, 7.63MB/s]\n",
      "Some weights of RobertaForSequenceClassification were not initialized from the model checkpoint at cardiffnlp/twitter-roberta-base and are newly initialized: ['classifier.dense.bias', 'classifier.out_proj.weight', 'classifier.dense.weight', 'classifier.out_proj.bias']\n",
      "You should probably TRAIN this model on a down-stream task to be able to use it for predictions and inference.\n"
     ]
    }
   ],
   "source": [
    "TASK='sentiment-analysis'\n",
    "MODEL = f\"cardiffnlp/twitter-roberta-base\"\n",
    "# pipe = pipeline(task=TASK, model=MODEL)\n",
    "tokenizer = AutoTokenizer.from_pretrained(MODEL, force_download=True)\n",
    "model = AutoModelForSequenceClassification.from_pretrained(MODEL)\n",
    "model.save_pretrained(MODEL)\n",
    "\n",
    "\n",
    "# Tasks:\n",
    "# emoji, emotion, hate, irony, offensive, sentiment\n",
    "# stance/abortion, stance/atheism, stance/climate, stance/feminist, stance/hillary\n",
    "\n",
    "# TODO: run the model\n",
    "df = pd.read_csv('data/new_df.csv')\n",
    "tm = time.time()\n",
    "df['user_review'] = df['user_review'].fillna('').astype('string')\n",
    "t = list(df['user_review'].map(lambda t: t[:240]))\n",
    "t = tokenizer(t, return_tensors='pt', padding=True)\n",
    "t = model(**t)\n",
    "t = softmax(t.logits.detach(), axis=1)\n",
    "print(time.time() - tm)"
   ]
  },
  {
   "cell_type": "code",
   "execution_count": null,
   "id": "5599f2b6-9ba0-4c6d-bc1e-e7e0ac0fc3da",
   "metadata": {},
   "outputs": [],
   "source": []
  }
 ],
 "metadata": {
  "kernelspec": {
   "display_name": "cmpt_kernel",
   "language": "python",
   "name": "cmpt_kernel"
  },
  "language_info": {
   "codemirror_mode": {
    "name": "ipython",
    "version": 3
   },
   "file_extension": ".py",
   "mimetype": "text/x-python",
   "name": "python",
   "nbconvert_exporter": "python",
   "pygments_lexer": "ipython3",
   "version": "3.11.5"
  }
 },
 "nbformat": 4,
 "nbformat_minor": 5
}
