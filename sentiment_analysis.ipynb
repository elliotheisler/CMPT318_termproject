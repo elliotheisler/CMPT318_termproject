{
 "cells": [
  {
   "cell_type": "code",
   "execution_count": null,
   "id": "e9c4bd53-c07a-4c07-a180-31d7030774e5",
   "metadata": {},
   "outputs": [],
   "source": [
    "from sklearnex import patch_sklearn; patch_sklearn()"
   ]
  },
  {
   "cell_type": "code",
   "execution_count": 2,
   "id": "4859cb73-a644-45b7-9d05-b11db6e26cdb",
   "metadata": {
    "tags": []
   },
   "outputs": [],
   "source": [
    "import pandas as pd\n",
    "from transformers import (AutoModelForSequenceClassification, pipeline)\n",
    "import transformers\n",
    "import datasets\n",
    "from tqdm import tqdm\n",
    "# from transformers import TFAutoModelForSequenceClassification\n",
    "from transformers import AutoTokenizer\n",
    "import numpy as np\n",
    "from scipy.special import softmax\n",
    "import csv\n",
    "import urllib.request\n",
    "import pandas as pd\n",
    "from tqdm import tqdm\n",
    "from typing import Callable\n",
    "from collections.abc import Iterable\n",
    "import time\n",
    "import seaborn as sns\n",
    "from transformers import AutoTokenizer, AutoModelForSequenceClassification"
   ]
  },
  {
   "cell_type": "code",
   "execution_count": null,
   "id": "54169442-b977-49d8-970e-adc69de3e062",
   "metadata": {},
   "outputs": [],
   "source": [
    "df = pd.read_csv('data/new_df.csv')\n",
    "df['user_review'] = df['user_review'].fillna('')\n",
    "df = df.astype({'user_review': 'string', 'title': 'string'})"
   ]
  },
  {
   "cell_type": "code",
   "execution_count": 9,
   "id": "1647ed21-12b2-4cba-b227-0b89a5535fb3",
   "metadata": {
    "tags": []
   },
   "outputs": [
    {
     "name": "stderr",
     "output_type": "stream",
     "text": [
      "Downloading config.json: 100%|██████████| 747/747 [00:00<00:00, 1.13MB/s]\n",
      "Downloading vocab.json: 100%|██████████| 899k/899k [00:00<00:00, 2.38MB/s]\n",
      "Downloading merges.txt: 100%|██████████| 456k/456k [00:00<00:00, 4.61MB/s]\n",
      "Downloading (…)cial_tokens_map.json: 100%|██████████| 150/150 [00:00<00:00, 492kB/s]\n"
     ]
    }
   ],
   "source": [
    "TASK='sentiment-analysis'\n",
    "MODEL = f\"cardiffnlp/twitter-roberta-base-sentiment\"\n",
    "# pipe = pipeline(task=TASK, model=MODEL)\n",
    "tokenizer = AutoTokenizer.from_pretrained(MODEL, force_download=True)\n",
    "model = AutoModelForSequenceClassification.from_pretrained(MODEL)\n",
    "# model.save_pretrained(MODEL)\n",
    "\n",
    "\n",
    "# Tasks:\n",
    "# emoji, emotion, hate, irony, offensive, sentiment\n",
    "# stance/abortion, stance/atheism, stance/climate, stance/feminist, stance/hillary\n",
    "\n",
    "# TODO: run the model\n",
    "# tm = time.time()\n",
    "# df['user_review'] = df['user_review'].fillna('').astype('string')\n",
    "# t = list(df['user_review'].map(lambda t: t[:240]))\n",
    "# t = tokenizer(t, return_tensors='pt', padding=True)\n",
    "# t = model(**t)\n",
    "# t = softmax(t.logits.detach(), axis=1)\n",
    "# print(time.time() - tm)"
   ]
  },
  {
   "cell_type": "code",
   "execution_count": null,
   "id": "a16ec510-e2d5-47d8-a54c-ea67301a08c9",
   "metadata": {},
   "outputs": [],
   "source": [
    "tm = time.time()\n",
    "t = list(df['user_review'])\n",
    "t = tokenizer(t, return_tensors='pt', max_length=511, padding='max_length', truncation=True)\n",
    "print(time.time() - tm)\n",
    "print(t['input_ids'].shape)"
   ]
  },
  {
   "cell_type": "code",
   "execution_count": null,
   "id": "21420628-bf90-47c5-9c44-7d96afc9b8fd",
   "metadata": {},
   "outputs": [],
   "source": [
    "tm = time.time()\n",
    "model_output = model(**t)\n",
    "print(time.time() - tm)"
   ]
  },
  {
   "cell_type": "code",
   "execution_count": null,
   "id": "e103f18a-4dd9-43c3-8f28-023fcaf667dc",
   "metadata": {},
   "outputs": [],
   "source": []
  }
 ],
 "metadata": {
  "kernelspec": {
   "display_name": "cmpt_kernel",
   "language": "python",
   "name": "cmpt_kernel"
  },
  "language_info": {
   "codemirror_mode": {
    "name": "ipython",
    "version": 3
   },
   "file_extension": ".py",
   "mimetype": "text/x-python",
   "name": "python",
   "nbconvert_exporter": "python",
   "pygments_lexer": "ipython3",
   "version": "3.11.5"
  }
 },
 "nbformat": 4,
 "nbformat_minor": 5
}
