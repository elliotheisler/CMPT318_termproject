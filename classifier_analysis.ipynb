{
 "cells": [
  {
   "cell_type": "code",
   "execution_count": 45,
   "id": "ae6190b8-7923-476d-8367-c33f2952dc56",
   "metadata": {
    "tags": []
   },
   "outputs": [],
   "source": [
    "import warnings\n",
    "warnings.simplefilter(action='ignore', category=FutureWarning)"
   ]
  },
  {
   "cell_type": "code",
   "execution_count": 1,
   "id": "c2a74466-335a-497a-a601-6db1a8c325c2",
   "metadata": {
    "tags": []
   },
   "outputs": [
    {
     "name": "stderr",
     "output_type": "stream",
     "text": [
      "/Users/elliotheisler/anaconda3/envs/cmpt/lib/python3.11/site-packages/tqdm/auto.py:21: TqdmWarning: IProgress not found. Please update jupyter and ipywidgets. See https://ipywidgets.readthedocs.io/en/stable/user_install.html\n",
      "  from .autonotebook import tqdm as notebook_tqdm\n"
     ]
    }
   ],
   "source": [
    "from transformers import (AutoModelForSequenceClassification, pipeline)\n",
    "import transformers\n",
    "import datasets\n",
    "from tqdm import tqdm\n",
    "# from transformers import TFAutoModelForSequenceClassification\n",
    "from transformers import AutoTokenizer\n",
    "import numpy as np\n",
    "from scipy.special import softmax\n",
    "import csv\n",
    "import urllib.request\n",
    "import pandas as pd\n",
    "from tqdm import tqdm\n",
    "from typing import Callable\n",
    "from collections.abc import Iterable\n",
    "import time\n",
    "import seaborn as sns"
   ]
  },
  {
   "cell_type": "code",
   "execution_count": null,
   "id": "17482745-f0e2-4620-b6ab-d333a84b88af",
   "metadata": {
    "tags": []
   },
   "outputs": [],
   "source": [
    "TASK='sentiment-analysis'\n",
    "MODEL = f\"cardiffnlp/twitter-roberta-base\"\n",
    "# pipe = pipeline(task=TASK, model=MODEL)\n",
    "tokenizer = AutoTokenizer.from_pretrained(MODEL, force_download=True)\n",
    "model = AutoModelForSequenceClassification.from_pretrained(MODEL)\n",
    "model.save_pretrained(MODEL)\n",
    "\n",
    "# Tasks:\n",
    "# emoji, emotion, hate, irony, offensive, sentiment\n",
    "# stance/abortion, stance/atheism, stance/climate, stance/feminist, stance/hillary"
   ]
  },
  {
   "cell_type": "code",
   "execution_count": null,
   "id": "7e304537-3802-457c-a750-a899feb98193",
   "metadata": {
    "tags": []
   },
   "outputs": [],
   "source": [
    "# TODO: run the model\n",
    "tm = time.time()\n",
    "df['user_review'] = df['user_review'].fillna('').astype('string')\n",
    "t = list(df['user_review'][980:1000].map(lambda t: t[:240]))\n",
    "t = tokenizer(t, return_tensors='pt', padding=True)\n",
    "t = model(**t)\n",
    "t = softmax(t.logits.detach(), axis=1)\n",
    "print(time.time() - tm)"
   ]
  },
  {
   "cell_type": "markdown",
   "id": "fe7c5d52-fa63-442a-aa9d-7c7e5c66d394",
   "metadata": {},
   "source": [
    "### format dataframes"
   ]
  },
  {
   "cell_type": "code",
   "execution_count": 5,
   "id": "1ee9f5ee-902e-499e-9997-4fe370b26065",
   "metadata": {
    "tags": []
   },
   "outputs": [],
   "source": [
    "def format_reviews_df(df: pd.DataFrame): \n",
    "    df = df.copy()\n",
    "    df['user_review'] = df['user_review'].fillna('').astype('string')\n",
    "    df['title'] = df['title'].fillna('').astype('string')\n",
    "    return df\n",
    "\n",
    "def format_games_df(df: pd.DataFrame): \n",
    "    df = df.copy()\n",
    "    df = df.astype({'title': 'string', 'developer': 'string',\n",
    "               'publisher': 'string', 'tags': 'string',\n",
    "               'overview': 'string'\n",
    "              })\n",
    "    return df\n",
    "    \n",
    "df = pd.read_csv('data/new_df.csv')\n",
    "df = format_reviews_df(df)\n",
    "\n",
    "df_games = pd.read_csv('data/train_gr/game_overview.csv')\n",
    "df_games = format_games_df(df_games)"
   ]
  },
  {
   "cell_type": "markdown",
   "id": "531c5cf5-9793-41e9-afd2-1515fbf54894",
   "metadata": {
    "tags": []
   },
   "source": [
    "### merge game info columns from game_overview.csv"
   ]
  },
  {
   "cell_type": "code",
   "execution_count": 6,
   "id": "1c16c5e0-5835-4e50-9d00-bf96c96eb0f9",
   "metadata": {
    "collapsed": true,
    "jupyter": {
     "outputs_hidden": true
    },
    "tags": []
   },
   "outputs": [
    {
     "data": {
      "text/html": [
       "<div>\n",
       "<style scoped>\n",
       "    .dataframe tbody tr th:only-of-type {\n",
       "        vertical-align: middle;\n",
       "    }\n",
       "\n",
       "    .dataframe tbody tr th {\n",
       "        vertical-align: top;\n",
       "    }\n",
       "\n",
       "    .dataframe thead th {\n",
       "        text-align: right;\n",
       "    }\n",
       "</style>\n",
       "<table border=\"1\" class=\"dataframe\">\n",
       "  <thead>\n",
       "    <tr style=\"text-align: right;\">\n",
       "      <th></th>\n",
       "      <th>review_id</th>\n",
       "      <th>title</th>\n",
       "      <th>year</th>\n",
       "      <th>user_review</th>\n",
       "      <th>user_suggestion</th>\n",
       "      <th>is_early_access</th>\n",
       "      <th>received_free</th>\n",
       "      <th>contains_art</th>\n",
       "      <th>developer</th>\n",
       "      <th>publisher</th>\n",
       "      <th>tags</th>\n",
       "      <th>overview</th>\n",
       "    </tr>\n",
       "  </thead>\n",
       "  <tbody>\n",
       "    <tr>\n",
       "      <th>17314</th>\n",
       "      <td>25536</td>\n",
       "      <td>EverQuest II</td>\n",
       "      <td>2017.0</td>\n",
       "      <td>An older game, to be sure, but has its own cha...</td>\n",
       "      <td>1</td>\n",
       "      <td>False</td>\n",
       "      <td>False</td>\n",
       "      <td>False</td>\n",
       "      <td>Daybreak Game Company</td>\n",
       "      <td>Daybreak Game Company</td>\n",
       "      <td>['Free to Play', 'Massively Multiplayer', 'RPG...</td>\n",
       "      <td>EverQuest® II is the epitome of massively mult...</td>\n",
       "    </tr>\n",
       "    <tr>\n",
       "      <th>17315</th>\n",
       "      <td>25537</td>\n",
       "      <td>EverQuest II</td>\n",
       "      <td>2011.0</td>\n",
       "      <td>When I frist started playing Everquest 2 it wa...</td>\n",
       "      <td>1</td>\n",
       "      <td>False</td>\n",
       "      <td>False</td>\n",
       "      <td>False</td>\n",
       "      <td>Daybreak Game Company</td>\n",
       "      <td>Daybreak Game Company</td>\n",
       "      <td>['Free to Play', 'Massively Multiplayer', 'RPG...</td>\n",
       "      <td>EverQuest® II is the epitome of massively mult...</td>\n",
       "    </tr>\n",
       "  </tbody>\n",
       "</table>\n",
       "</div>"
      ],
      "text/plain": [
       "       review_id         title    year  \\\n",
       "17314      25536  EverQuest II  2017.0   \n",
       "17315      25537  EverQuest II  2011.0   \n",
       "\n",
       "                                             user_review  user_suggestion  \\\n",
       "17314  An older game, to be sure, but has its own cha...                1   \n",
       "17315  When I frist started playing Everquest 2 it wa...                1   \n",
       "\n",
       "       is_early_access  received_free  contains_art               developer  \\\n",
       "17314            False          False         False  Daybreak Game Company    \n",
       "17315            False          False         False  Daybreak Game Company    \n",
       "\n",
       "                    publisher  \\\n",
       "17314  Daybreak Game Company    \n",
       "17315  Daybreak Game Company    \n",
       "\n",
       "                                                    tags  \\\n",
       "17314  ['Free to Play', 'Massively Multiplayer', 'RPG...   \n",
       "17315  ['Free to Play', 'Massively Multiplayer', 'RPG...   \n",
       "\n",
       "                                                overview  \n",
       "17314  EverQuest® II is the epitome of massively mult...  \n",
       "17315  EverQuest® II is the epitome of massively mult...  "
      ]
     },
     "execution_count": 6,
     "metadata": {},
     "output_type": "execute_result"
    }
   ],
   "source": [
    "new_df = df.join(df_games.set_index('title'), on='title', lsuffix='_l', rsuffix='_r', validate='m:1')\n",
    "new_df.tail(2)"
   ]
  },
  {
   "cell_type": "markdown",
   "id": "e31d8f34-5223-47e9-920d-cbb0477d2776",
   "metadata": {
    "tags": []
   },
   "source": [
    "### prepare input"
   ]
  },
  {
   "cell_type": "code",
   "execution_count": 46,
   "id": "690d7090-9bab-43a8-b1a1-bc8a6bfd0735",
   "metadata": {
    "tags": []
   },
   "outputs": [],
   "source": [
    "from sklearn.preprocessing import LabelEncoder, OrdinalEncoder, StandardScaler\n",
    "le = LabelEncoder()\n",
    "oe = OrdinalEncoder().set_output(transform=\"pandas\")\n",
    "\n",
    "numeric_df = new_df.copy()\n",
    "numeric_df = numeric_df.drop(['review_id', 'tags', 'overview', 'user_review'], axis=1) # TODO: add sentiment scores\n",
    "# fit transforms for y and x\n",
    "numeric_df['user_suggestion'] = le.fit_transform(numeric_df['user_suggestion'])\n",
    "# x: string enums\n",
    "numeric_df[['title', 'developer', 'publisher']] = \\\n",
    "    oe.fit_transform(numeric_df[['title', 'developer', 'publisher']])\n",
    "# x: bools\n",
    "numeric_df[['is_early_access', 'received_free', 'contains_art']] = \\\n",
    "    oe.fit_transform(numeric_df[['is_early_access', 'received_free', 'contains_art']])"
   ]
  },
  {
   "cell_type": "markdown",
   "id": "c2219a79-020c-46e0-901d-44120227e6fe",
   "metadata": {},
   "source": [
    "### correlation matrix"
   ]
  },
  {
   "cell_type": "code",
   "execution_count": 41,
   "id": "80821431-d366-4e18-ac27-172a7358cddc",
   "metadata": {
    "tags": []
   },
   "outputs": [
    {
     "data": {
      "text/plain": [
       "<Axes: >"
      ]
     },
     "execution_count": 41,
     "metadata": {},
     "output_type": "execute_result"
    },
    {
     "data": {
      "image/png": "[encoded data removed]",
      "text/plain": [
       "<Figure size 640x480 with 2 Axes>"
      ]
     },
     "metadata": {},
     "output_type": "display_data"
    }
   ],
   "source": [
    "sns.heatmap(numeric_df.corr())"
   ]
  },
  {
   "cell_type": "markdown",
   "id": "8ec13193-24b7-45ae-a40e-e53a05f74b62",
   "metadata": {},
   "source": [
    "### x and y, selkbest, and standard scaler"
   ]
  },
  {
   "cell_type": "code",
   "execution_count": 50,
   "id": "230144b2-84de-4301-b245-85c9519ad22b",
   "metadata": {
    "tags": []
   },
   "outputs": [],
   "source": [
    "# x and y\n",
    "y = numeric_df['user_suggestion']\n",
    "x = numeric_df.drop('user_suggestion', axis=1)"
   ]
  },
  {
   "cell_type": "code",
   "execution_count": 58,
   "id": "67b894c2-7c0f-4b49-b667-c9011b80275f",
   "metadata": {
    "tags": []
   },
   "outputs": [],
   "source": [
    "from sklearn.feature_selection import SelectKBest\n",
    "from sklearn.feature_selection import chi2, f_classif, r_regression\n",
    "from sklearn.model_selection import train_test_split\n",
    "# selkbest\n",
    "skb = SelectKBest(score_func=chi2, k=5).set_output(transform='pandas')\n",
    "best_x = skb.fit_transform(x, y)\n",
    "# scaled\n",
    "scaler = StandardScaler()\n",
    "scaled_x = scaler.fit_transform(best_x)\n",
    "scaled_x = pd.DataFrame(scaled_x, columns=best_x.columns)\n",
    "\n",
    "x_train, x_test, y_train, y_test = train_test_split(scaled_x, y, test_size=0.20)"
   ]
  },
  {
   "cell_type": "markdown",
   "id": "c121d5e2-0ed0-41e4-8678-56092e09d57f",
   "metadata": {},
   "source": [
    "### SVM"
   ]
  },
  {
   "cell_type": "code",
   "execution_count": 59,
   "id": "263c7536-88a3-4901-a9e2-f47eff109362",
   "metadata": {
    "collapsed": true,
    "jupyter": {
     "outputs_hidden": true
    },
    "tags": []
   },
   "outputs": [
    {
     "data": {
      "text/plain": [
       "{'C': 1.0,\n",
       " 'break_ties': False,\n",
       " 'cache_size': 200,\n",
       " 'class_weight': None,\n",
       " 'coef0': 0.0,\n",
       " 'decision_function_shape': 'ovr',\n",
       " 'degree': 3,\n",
       " 'gamma': 'scale',\n",
       " 'kernel': 'rbf',\n",
       " 'max_iter': -1,\n",
       " 'probability': False,\n",
       " 'random_state': None,\n",
       " 'shrinking': True,\n",
       " 'tol': 0.001,\n",
       " 'verbose': False}"
      ]
     },
     "execution_count": 59,
     "metadata": {},
     "output_type": "execute_result"
    }
   ],
   "source": [
    "from sklearn.svm import SVC\n",
    "svm_classifier = SVC()\n",
    "svm_classifier.get_params()"
   ]
  },
  {
   "cell_type": "code",
   "execution_count": 60,
   "id": "f65a80ac-8a70-4c9b-860d-374503018251",
   "metadata": {
    "tags": []
   },
   "outputs": [
    {
     "data": {
      "text/html": [
       "<style>#sk-container-id-1 {color: black;background-color: white;}#sk-container-id-1 pre{padding: 0;}#sk-container-id-1 div.sk-toggleable {background-color: white;}#sk-container-id-1 label.sk-toggleable__label {cursor: pointer;display: block;width: 100%;margin-bottom: 0;padding: 0.3em;box-sizing: border-box;text-align: center;}#sk-container-id-1 label.sk-toggleable__label-arrow:before {content: \"▸\";float: left;margin-right: 0.25em;color: #696969;}#sk-container-id-1 label.sk-toggleable__label-arrow:hover:before {color: black;}#sk-container-id-1 div.sk-estimator:hover label.sk-toggleable__label-arrow:before {color: black;}#sk-container-id-1 div.sk-toggleable__content {max-height: 0;max-width: 0;overflow: hidden;text-align: left;background-color: #f0f8ff;}#sk-container-id-1 div.sk-toggleable__content pre {margin: 0.2em;color: black;border-radius: 0.25em;background-color: #f0f8ff;}#sk-container-id-1 input.sk-toggleable__control:checked~div.sk-toggleable__content {max-height: 200px;max-width: 100%;overflow: auto;}#sk-container-id-1 input.sk-toggleable__control:checked~label.sk-toggleable__label-arrow:before {content: \"▾\";}#sk-container-id-1 div.sk-estimator input.sk-toggleable__control:checked~label.sk-toggleable__label {background-color: #d4ebff;}#sk-container-id-1 div.sk-label input.sk-toggleable__control:checked~label.sk-toggleable__label {background-color: #d4ebff;}#sk-container-id-1 input.sk-hidden--visually {border: 0;clip: rect(1px 1px 1px 1px);clip: rect(1px, 1px, 1px, 1px);height: 1px;margin: -1px;overflow: hidden;padding: 0;position: absolute;width: 1px;}#sk-container-id-1 div.sk-estimator {font-family: monospace;background-color: #f0f8ff;border: 1px dotted black;border-radius: 0.25em;box-sizing: border-box;margin-bottom: 0.5em;}#sk-container-id-1 div.sk-estimator:hover {background-color: #d4ebff;}#sk-container-id-1 div.sk-parallel-item::after {content: \"\";width: 100%;border-bottom: 1px solid gray;flex-grow: 1;}#sk-container-id-1 div.sk-label:hover label.sk-toggleable__label {background-color: #d4ebff;}#sk-container-id-1 div.sk-serial::before {content: \"\";position: absolute;border-left: 1px solid gray;box-sizing: border-box;top: 0;bottom: 0;left: 50%;z-index: 0;}#sk-container-id-1 div.sk-serial {display: flex;flex-direction: column;align-items: center;background-color: white;padding-right: 0.2em;padding-left: 0.2em;position: relative;}#sk-container-id-1 div.sk-item {position: relative;z-index: 1;}#sk-container-id-1 div.sk-parallel {display: flex;align-items: stretch;justify-content: center;background-color: white;position: relative;}#sk-container-id-1 div.sk-item::before, #sk-container-id-1 div.sk-parallel-item::before {content: \"\";position: absolute;border-left: 1px solid gray;box-sizing: border-box;top: 0;bottom: 0;left: 50%;z-index: -1;}#sk-container-id-1 div.sk-parallel-item {display: flex;flex-direction: column;z-index: 1;position: relative;background-color: white;}#sk-container-id-1 div.sk-parallel-item:first-child::after {align-self: flex-end;width: 50%;}#sk-container-id-1 div.sk-parallel-item:last-child::after {align-self: flex-start;width: 50%;}#sk-container-id-1 div.sk-parallel-item:only-child::after {width: 0;}#sk-container-id-1 div.sk-dashed-wrapped {border: 1px dashed gray;margin: 0 0.4em 0.5em 0.4em;box-sizing: border-box;padding-bottom: 0.4em;background-color: white;}#sk-container-id-1 div.sk-label label {font-family: monospace;font-weight: bold;display: inline-block;line-height: 1.2em;}#sk-container-id-1 div.sk-label-container {text-align: center;}#sk-container-id-1 div.sk-container {/* jupyter's `normalize.less` sets `[hidden] { display: none; }` but bootstrap.min.css set `[hidden] { display: none !important; }` so we also need the `!important` here to be able to override the default hidden behavior on the sphinx rendered scikit-learn.org. See: https://github.com/scikit-learn/scikit-learn/issues/21755 */display: inline-block !important;position: relative;}#sk-container-id-1 div.sk-text-repr-fallback {display: none;}</style><div id=\"sk-container-id-1\" class=\"sk-top-container\"><div class=\"sk-text-repr-fallback\"><pre>SVC()</pre><b>In a Jupyter environment, please rerun this cell to show the HTML representation or trust the notebook. <br />On GitHub, the HTML representation is unable to render, please try loading this page with nbviewer.org.</b></div><div class=\"sk-container\" hidden><div class=\"sk-item\"><div class=\"sk-estimator sk-toggleable\"><input class=\"sk-toggleable__control sk-hidden--visually\" id=\"sk-estimator-id-1\" type=\"checkbox\" checked><label for=\"sk-estimator-id-1\" class=\"sk-toggleable__label sk-toggleable__label-arrow\">SVC</label><div class=\"sk-toggleable__content\"><pre>SVC()</pre></div></div></div></div></div>"
      ],
      "text/plain": [
       "SVC()"
      ]
     },
     "execution_count": 60,
     "metadata": {},
     "output_type": "execute_result"
    }
   ],
   "source": [
    "svm_classifier.fit(x_train, y_train)"
   ]
  },
  {
   "cell_type": "code",
   "execution_count": 64,
   "id": "d1bb7beb-8046-4d4d-8ab8-ce051829ce10",
   "metadata": {
    "tags": []
   },
   "outputs": [],
   "source": [
    "y_pred = svm_classifier.predict(x_test)"
   ]
  },
  {
   "cell_type": "code",
   "execution_count": 69,
   "id": "caca8b81-9a71-4a8f-abf4-4d07499fc800",
   "metadata": {
    "tags": []
   },
   "outputs": [
    {
     "data": {
      "text/plain": [
       "<Axes: >"
      ]
     },
     "execution_count": 69,
     "metadata": {},
     "output_type": "execute_result"
    },
    {
     "data": {
      "image/png": "[encoded data removed]",
      "text/plain": [
       "<Figure size 640x480 with 2 Axes>"
      ]
     },
     "metadata": {},
     "output_type": "display_data"
    }
   ],
   "source": [
    "from sklearn.metrics import confusion_matrix\n",
    "conf_matrix = confusion_matrix(y_test, y_pred)\n",
    "sns.heatmap(conf_matrix, annot=True)"
   ]
  },
  {
   "cell_type": "code",
   "execution_count": null,
   "id": "2508ca23-bc57-4fcb-8b4d-aa4f924e5fb0",
   "metadata": {},
   "outputs": [],
   "source": []
  }
 ],
 "metadata": {
  "kernelspec": {
   "display_name": "cmpt_kernel",
   "language": "python",
   "name": "cmpt_kernel"
  },
  "language_info": {
   "codemirror_mode": {
    "name": "ipython",
    "version": 3
   },
   "file_extension": ".py",
   "mimetype": "text/x-python",
   "name": "python",
   "nbconvert_exporter": "python",
   "pygments_lexer": "ipython3",
   "version": "3.11.5"
  }
 },
 "nbformat": 4,
 "nbformat_minor": 5
}
