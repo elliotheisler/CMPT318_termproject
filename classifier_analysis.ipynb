{
 "cells": [
  {
   "cell_type": "code",
   "execution_count": 1,
   "id": "2f58f750-8a97-4703-8702-fc66a402e01a",
   "metadata": {
    "tags": []
   },
   "outputs": [
    {
     "name": "stderr",
     "output_type": "stream",
     "text": [
      "Intel(R) Extension for Scikit-learn* enabled (https://github.com/intel/scikit-learn-intelex)\n"
     ]
    }
   ],
   "source": [
    "from sklearnex import patch_sklearn; patch_sklearn()"
   ]
  },
  {
   "cell_type": "code",
   "execution_count": 2,
   "id": "ae6190b8-7923-476d-8367-c33f2952dc56",
   "metadata": {
    "tags": []
   },
   "outputs": [],
   "source": [
    "import warnings\n",
    "warnings.simplefilter(action='ignore', category=FutureWarning)"
   ]
  },
  {
   "cell_type": "code",
   "execution_count": 3,
   "id": "c2a74466-335a-497a-a601-6db1a8c325c2",
   "metadata": {
    "tags": []
   },
   "outputs": [
    {
     "name": "stderr",
     "output_type": "stream",
     "text": [
      "/Users/elliotheisler/anaconda3/envs/cmpt/lib/python3.11/site-packages/tqdm/auto.py:21: TqdmWarning: IProgress not found. Please update jupyter and ipywidgets. See https://ipywidgets.readthedocs.io/en/stable/user_install.html\n",
      "  from .autonotebook import tqdm as notebook_tqdm\n"
     ]
    }
   ],
   "source": [
    "from transformers import (AutoModelForSequenceClassification, pipeline)\n",
    "import transformers\n",
    "import datasets\n",
    "from tqdm import tqdm\n",
    "# from transformers import TFAutoModelForSequenceClassification\n",
    "from transformers import AutoTokenizer\n",
    "import numpy as np\n",
    "from scipy.special import softmax\n",
    "import csv\n",
    "import urllib.request\n",
    "import pandas as pd\n",
    "from typing import Callable\n",
    "from collections.abc import Iterable\n",
    "import time\n",
    "import seaborn as sns"
   ]
  },
  {
   "cell_type": "markdown",
   "id": "fe7c5d52-fa63-442a-aa9d-7c7e5c66d394",
   "metadata": {},
   "source": [
    "### format dataframes (could have done this in preprocessing notebook)"
   ]
  },
  {
   "cell_type": "code",
   "execution_count": 56,
   "id": "1ee9f5ee-902e-499e-9997-4fe370b26065",
   "metadata": {
    "tags": []
   },
   "outputs": [],
   "source": [
    "def format_reviews_df(df: pd.DataFrame): \n",
    "    df = df.copy()\n",
    "    df['user_review'] = df['user_review'].fillna('').astype('string')\n",
    "    df['title'] = df['title'].fillna('').astype('string')\n",
    "    return df\n",
    "\n",
    "def format_games_df(df: pd.DataFrame): \n",
    "    df = df.copy()\n",
    "    df = df.astype({'title': 'string', 'developer': 'string',\n",
    "               'publisher': 'string', 'tags': 'string',\n",
    "               'overview': 'string'\n",
    "              })\n",
    "    return df\n",
    "    \n",
    "df = pd.read_csv('data/new_df.csv')\n",
    "df = format_reviews_df(df)\n",
    "df_games = pd.read_csv('data/train_gr/game_overview.csv')\n",
    "df_games = format_games_df(df_games)"
   ]
  },
  {
   "cell_type": "markdown",
   "id": "531c5cf5-9793-41e9-afd2-1515fbf54894",
   "metadata": {
    "tags": []
   },
   "source": [
    "### merge game info columns from game_overview.csv"
   ]
  },
  {
   "cell_type": "code",
   "execution_count": 57,
   "id": "1c16c5e0-5835-4e50-9d00-bf96c96eb0f9",
   "metadata": {
    "tags": []
   },
   "outputs": [
    {
     "data": {
      "text/html": [
       "<div>\n",
       "<style scoped>\n",
       "    .dataframe tbody tr th:only-of-type {\n",
       "        vertical-align: middle;\n",
       "    }\n",
       "\n",
       "    .dataframe tbody tr th {\n",
       "        vertical-align: top;\n",
       "    }\n",
       "\n",
       "    .dataframe thead th {\n",
       "        text-align: right;\n",
       "    }\n",
       "</style>\n",
       "<table border=\"1\" class=\"dataframe\">\n",
       "  <thead>\n",
       "    <tr style=\"text-align: right;\">\n",
       "      <th></th>\n",
       "      <th>review_id</th>\n",
       "      <th>title</th>\n",
       "      <th>year</th>\n",
       "      <th>user_review</th>\n",
       "      <th>user_suggestion</th>\n",
       "      <th>is_early_access</th>\n",
       "      <th>received_free</th>\n",
       "      <th>contains_art</th>\n",
       "      <th>developer</th>\n",
       "      <th>publisher</th>\n",
       "      <th>tags</th>\n",
       "      <th>overview</th>\n",
       "    </tr>\n",
       "  </thead>\n",
       "  <tbody>\n",
       "    <tr>\n",
       "      <th>17314</th>\n",
       "      <td>25536</td>\n",
       "      <td>EverQuest II</td>\n",
       "      <td>2017.0</td>\n",
       "      <td>An older game, to be sure, but has its own cha...</td>\n",
       "      <td>1</td>\n",
       "      <td>False</td>\n",
       "      <td>False</td>\n",
       "      <td>False</td>\n",
       "      <td>Daybreak Game Company</td>\n",
       "      <td>Daybreak Game Company</td>\n",
       "      <td>['Free to Play', 'Massively Multiplayer', 'RPG...</td>\n",
       "      <td>EverQuest® II is the epitome of massively mult...</td>\n",
       "    </tr>\n",
       "    <tr>\n",
       "      <th>17315</th>\n",
       "      <td>25537</td>\n",
       "      <td>EverQuest II</td>\n",
       "      <td>2011.0</td>\n",
       "      <td>When I frist started playing Everquest 2 it wa...</td>\n",
       "      <td>1</td>\n",
       "      <td>False</td>\n",
       "      <td>False</td>\n",
       "      <td>False</td>\n",
       "      <td>Daybreak Game Company</td>\n",
       "      <td>Daybreak Game Company</td>\n",
       "      <td>['Free to Play', 'Massively Multiplayer', 'RPG...</td>\n",
       "      <td>EverQuest® II is the epitome of massively mult...</td>\n",
       "    </tr>\n",
       "  </tbody>\n",
       "</table>\n",
       "</div>"
      ],
      "text/plain": [
       "       review_id         title    year  \\\n",
       "17314      25536  EverQuest II  2017.0   \n",
       "17315      25537  EverQuest II  2011.0   \n",
       "\n",
       "                                             user_review  user_suggestion  \\\n",
       "17314  An older game, to be sure, but has its own cha...                1   \n",
       "17315  When I frist started playing Everquest 2 it wa...                1   \n",
       "\n",
       "       is_early_access  received_free  contains_art               developer  \\\n",
       "17314            False          False         False  Daybreak Game Company    \n",
       "17315            False          False         False  Daybreak Game Company    \n",
       "\n",
       "                    publisher  \\\n",
       "17314  Daybreak Game Company    \n",
       "17315  Daybreak Game Company    \n",
       "\n",
       "                                                    tags  \\\n",
       "17314  ['Free to Play', 'Massively Multiplayer', 'RPG...   \n",
       "17315  ['Free to Play', 'Massively Multiplayer', 'RPG...   \n",
       "\n",
       "                                                overview  \n",
       "17314  EverQuest® II is the epitome of massively mult...  \n",
       "17315  EverQuest® II is the epitome of massively mult...  "
      ]
     },
     "execution_count": 57,
     "metadata": {},
     "output_type": "execute_result"
    }
   ],
   "source": [
    "new_df = df.join(df_games.set_index('title'), on='title', lsuffix='_l', rsuffix='_r', validate='m:1')\n",
    "new_df.tail(2)"
   ]
  },
  {
   "cell_type": "markdown",
   "id": "1b426bec-ba47-44ba-99a2-991b41d30e93",
   "metadata": {},
   "source": [
    "### complete analysis with 5 hyperparameters"
   ]
  },
  {
   "cell_type": "code",
   "execution_count": 7,
   "id": "f28b8248-934c-4565-87fd-2a45a34674a3",
   "metadata": {},
   "outputs": [
    {
     "name": "stdout",
     "output_type": "stream",
     "text": [
      "selection=left\n",
      "  k=10\n",
      "    at grid_search...\n",
      "grid search time: 147.4622519016266\n",
      "  k=5\n",
      "    at grid_search...\n",
      "grid search time: 160.20049715042114\n",
      "  k=2\n",
      "    at grid_search...\n",
      "grid search time: 149.9601809978485\n",
      "selection=middle\n",
      "  k=10\n",
      "    at grid_search...\n",
      "grid search time: 151.15001606941223\n",
      "  k=5\n",
      "    at grid_search...\n",
      "grid search time: 158.39366388320923\n",
      "  k=2\n",
      "    at grid_search...\n",
      "grid search time: 154.28762412071228\n",
      "selection=right\n",
      "  k=10\n",
      "    at grid_search...\n",
      "grid search time: 201.40812802314758\n",
      "  k=5\n",
      "    at grid_search...\n",
      "grid search time: 155.06728386878967\n",
      "  k=2\n",
      "    at grid_search...\n",
      "grid search time: 155.1328330039978\n"
     ]
    },
    {
     "ename": "TypeError",
     "evalue": "file must have a 'write' attribute",
     "output_type": "error",
     "traceback": [
      "\u001b[0;31m---------------------------------------------------------------------------\u001b[0m",
      "\u001b[0;31mTypeError\u001b[0m                                 Traceback (most recent call last)",
      "Cell \u001b[0;32mIn[7], line 96\u001b[0m\n\u001b[1;32m     92\u001b[0m         gs_df\u001b[38;5;241m.\u001b[39mto_csv(\u001b[38;5;124mf\u001b[39m\u001b[38;5;124m'\u001b[39m\u001b[38;5;124mresults/gridsearch_\u001b[39m\u001b[38;5;132;01m{\u001b[39;00mSELECTION\u001b[38;5;132;01m}\u001b[39;00m\u001b[38;5;124m.csv\u001b[39m\u001b[38;5;124m'\u001b[39m, mode\u001b[38;5;241m=\u001b[39m\u001b[38;5;124m'\u001b[39m\u001b[38;5;124ma\u001b[39m\u001b[38;5;124m'\u001b[39m, index\u001b[38;5;241m=\u001b[39m\u001b[38;5;28;01mFalse\u001b[39;00m, \n\u001b[1;32m     93\u001b[0m                      header \u001b[38;5;241m=\u001b[39m \u001b[38;5;28;01mTrue\u001b[39;00m \u001b[38;5;28;01mif\u001b[39;00m SELECTION \u001b[38;5;241m==\u001b[39m \u001b[38;5;124m'\u001b[39m\u001b[38;5;124mleft\u001b[39m\u001b[38;5;124m'\u001b[39m \u001b[38;5;28;01melse\u001b[39;00m \u001b[38;5;28;01mFalse\u001b[39;00m\n\u001b[1;32m     94\u001b[0m                     )\n\u001b[1;32m     95\u001b[0m \u001b[38;5;28;01mimport\u001b[39;00m \u001b[38;5;21;01mpickle\u001b[39;00m\n\u001b[0;32m---> 96\u001b[0m \u001b[43mpickle\u001b[49m\u001b[38;5;241;43m.\u001b[39;49m\u001b[43mdump\u001b[49m\u001b[43m(\u001b[49m\u001b[43mconfusions\u001b[49m\u001b[43m,\u001b[49m\u001b[43m \u001b[49m\u001b[38;5;124;43m'\u001b[39;49m\u001b[38;5;124;43mresults/confusions.pkl\u001b[39;49m\u001b[38;5;124;43m'\u001b[39;49m\u001b[43m)\u001b[49m\n",
      "\u001b[0;31mTypeError\u001b[0m: file must have a 'write' attribute"
     ]
    }
   ],
   "source": [
    "from sklearn.metrics import confusion_matrix\n",
    "from sklearnex.svm import SVC\n",
    "from sklearn.preprocessing import LabelEncoder, OrdinalEncoder, StandardScaler\n",
    "from sklearn.feature_selection import SelectKBest\n",
    "from sklearn.feature_selection import chi2, f_classif, r_regression\n",
    "from sklearn.model_selection import train_test_split, GridSearchCV\n",
    "from time import time\n",
    "\n",
    "\n",
    "### first hyperparameter: take sentiment scores from either the beginning, middle, or\n",
    "### end of the steam review\n",
    "confusions = {\n",
    "    'left': [],\n",
    "    'middle': [],\n",
    "    'right': [],\n",
    "}\n",
    "for SELECTION in ['left', 'middle', 'right']:\n",
    "    print(f'selection={SELECTION}')\n",
    "    df_sentiments = pd.read_csv(f'data/results_{SELECTION}.csv')\n",
    "    df_sentiments = pd.concat([new_df, df_sentiments], axis=1)\n",
    "    \n",
    "    ### take numeric columns, encode categorical columns\n",
    "    \n",
    "    le = LabelEncoder()\n",
    "    oe = OrdinalEncoder().set_output(transform=\"pandas\")\n",
    "    \n",
    "    numeric_df = df_sentiments.copy()\n",
    "    numeric_df = numeric_df.drop(['review_id', 'tags', 'overview', 'user_review'], axis=1)\n",
    "    # fit transforms for y and x\n",
    "    numeric_df['user_suggestion'] = le.fit_transform(numeric_df['user_suggestion'])\n",
    "    # x: string enums\n",
    "    numeric_df[['title', 'developer', 'publisher']] = \\\n",
    "        oe.fit_transform(numeric_df[['title', 'developer', 'publisher']])\n",
    "    # x: bools\n",
    "    numeric_df[['is_early_access', 'received_free', 'contains_art']] = \\\n",
    "        oe.fit_transform(numeric_df[['is_early_access', 'received_free', 'contains_art']])\n",
    "    \n",
    "    ### correlation matrix\n",
    "    \n",
    "    hm = numeric_df.corr()\n",
    "    hm.to_csv(f'results/corr_{SELECTION}.csv')\n",
    "    \n",
    "    ### split x and y, selkbest, standardscaler, and finally train/testsplit\n",
    "\n",
    "    # x and y\n",
    "    y = numeric_df['user_suggestion']\n",
    "    x = numeric_df.drop('user_suggestion', axis=1)\n",
    "    \n",
    "\n",
    "    ### 2nd hyperparameter: `k` in selkbest\n",
    "    \n",
    "    for k in [x.columns.size, 5, 2]:\n",
    "        print(f'  k={k}')\n",
    "        # selkbest\n",
    "        skb = SelectKBest(score_func=chi2, k=5).set_output(transform='pandas')\n",
    "        best_x = skb.fit_transform(x, y)\n",
    "        sorted(best_x.columns.to_list())\n",
    "        \n",
    "        # scaled\n",
    "        scaler = StandardScaler()\n",
    "        scaled_x = scaler.fit_transform(best_x)\n",
    "        scaled_x = pd.DataFrame(scaled_x, columns=best_x.columns)\n",
    "        \n",
    "        x_train, x_test, y_train, y_test = train_test_split(scaled_x, y, test_size=0.20)\n",
    "        print('    at grid_search...')\n",
    "        ### SVM grid search: the other 3 hyperparameters\n",
    "        svm_paramgrid = {\n",
    "        'kernel': ['linear', 'rbf', 'sigmoid'],\n",
    "        'C': [1, 10, 1e-1],\n",
    "        'gamma': ['scale', 'auto'],\n",
    "            \n",
    "        # 'shrinking': True,\n",
    "        'cache_size': [1000]\n",
    "        }\n",
    "        svm_classifier = SVC()\n",
    "        grid = GridSearchCV(svm_classifier, svm_paramgrid)\n",
    "        \n",
    "        t = time()\n",
    "        grid.fit(x_train, y_train)\n",
    "        print(f'grid search time: {time() - t}')\n",
    "\n",
    "        ### test accuracy of best classifier\n",
    "        y_pred = grid.predict(x_test)\n",
    "        \n",
    "        conf_matrix = confusion_matrix(y_test, y_pred)\n",
    "        confusions[SELECTION].append(conf_matrix.tolist())\n",
    "        \n",
    "        gs_df = pd.DataFrame(grid.cv_results_)\n",
    "        gs_df = gs_df.sort_values(by='mean_test_score', ascending=False)\n",
    "        gs_df['param_selection'] = SELECTION\n",
    "        gs_df['param_k'] = k\n",
    "        gs_df.to_csv(f'results/gridsearch.csv', mode='a', index=False, \n",
    "                     header = True if SELECTION == 'left' and k == x.columns.size else False\n",
    "                    )\n"
   ]
  },
  {
   "cell_type": "code",
   "execution_count": 10,
   "id": "59618522-b1e7-40c3-ae2c-ed52b5890888",
   "metadata": {},
   "outputs": [],
   "source": [
    "import pickle\n",
    "with open('results/confusions.pkl', 'wb') as f:\n",
    "    pickle.dump(confusions, f)"
   ]
  },
  {
   "cell_type": "code",
   "execution_count": 46,
   "id": "5b7517da-ce3e-498b-851f-742e4b772487",
   "metadata": {},
   "outputs": [
    {
     "data": {
      "image/png": "[encoded data removed]",
      "text/plain": [
       "<Figure size 1000x400 with 4 Axes>"
      ]
     },
     "metadata": {},
     "output_type": "display_data"
    }
   ],
   "source": [
    "# i decided to make the figure right here\n",
    "# best params, from output in figures.ipynb: selection=right, k=2\n",
    "from matplotlib import pyplot as plt\n",
    "least_accurate = np.array(confusions['middle'][1])\n",
    "most_accurate = np.array(confusions['right'][0])\n",
    "fig, axs = plt.subplots(1, 2, figsize=(10,4))\n",
    "fig.tight_layout()\n",
    "\n",
    "def precision(a):\n",
    "    return a[1,1] / (a[1,1] + a[0,1])\n",
    "\n",
    "sns.heatmap(most_accurate, annot=True, ax=axs[0])\n",
    "sns.heatmap(least_accurate, annot=True, ax=axs[1])\n",
    "axs[0].set_title(f'grid search with best precision: {precision(most_accurate):.3}')\n",
    "axs[1].set_title(f'grid search with worst precision: {precision(least_accurate):.3}')\n",
    "plt.savefig('results/final_results.png')"
   ]
  },
  {
   "cell_type": "code",
   "execution_count": null,
   "id": "62d50932-7c35-4af7-ad4f-c9a5e29bb313",
   "metadata": {},
   "outputs": [],
   "source": [
    "# verifying the above\n",
    "maxp = max(max(precision(np.array(a)) for a in l) for l in confusions.values())\n",
    "minp = min(min(precision(np.array(a)) for a in l) for l in confusions.values())\n",
    "print(maxp, minp)\n",
    "\n",
    "k = None\n",
    "i = None\n",
    "min_val = None\n",
    "min_key = None\n",
    "min_idx = None\n",
    "for k, l in confusions.items():\n",
    "    for i in range(len(l)):\n",
    "        val = precision(np.array(l[i]))\n",
    "        if min_val is None or val > min_val:\n",
    "            min_val = val\n",
    "            min_key = k\n",
    "            min_idx = i\n",
    "print(min_val, min_key, min_idx)"
   ]
  },
  {
   "cell_type": "code",
   "execution_count": 58,
   "id": "a2a88d72-272c-4d46-b913-a0d8e7730b10",
   "metadata": {},
   "outputs": [],
   "source": [
    "df_sentiments = pd.read_csv(f'data/results_left.csv')\n",
    "df_sentiments = pd.concat([new_df, df_sentiments], axis=1)\n",
    "\n",
    "numeric_df = df_sentiments.copy()\n",
    "numeric_df = numeric_df.drop(['review_id', 'tags', 'overview', 'user_review'], axis=1)"
   ]
  },
  {
   "cell_type": "code",
   "execution_count": null,
   "id": "232c37da-450d-4b4f-a4f2-3f2e8dd5f1e8",
   "metadata": {},
   "outputs": [],
   "source": []
  }
 ],
 "metadata": {
  "kernelspec": {
   "display_name": "cmpt_kernel",
   "language": "python",
   "name": "cmpt_kernel"
  },
  "language_info": {
   "codemirror_mode": {
    "name": "ipython",
    "version": 3
   },
   "file_extension": ".py",
   "mimetype": "text/x-python",
   "name": "python",
   "nbconvert_exporter": "python",
   "pygments_lexer": "ipython3",
   "version": "3.11.5"
  }
 },
 "nbformat": 4,
 "nbformat_minor": 5
}
